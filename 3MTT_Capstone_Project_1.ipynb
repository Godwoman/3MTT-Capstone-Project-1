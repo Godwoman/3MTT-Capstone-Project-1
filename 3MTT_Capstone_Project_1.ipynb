{
  "nbformat": 4,
  "nbformat_minor": 0,
  "metadata": {
    "colab": {
      "provenance": [],
      "toc_visible": true,
      "gpuType": "T4",
      "mount_file_id": "1bA0hW8QGhHotXaw15s8nI1MX3seZ6yH9",
      "authorship_tag": "ABX9TyO6ReiFI+4PUhIhHGANeGLv",
      "include_colab_link": true
    },
    "kernelspec": {
      "name": "python3",
      "display_name": "Python 3"
    },
    "language_info": {
      "name": "python"
    },
    "accelerator": "GPU"
  },
  "cells": [
    {
      "cell_type": "markdown",
      "metadata": {
        "id": "view-in-github",
        "colab_type": "text"
      },
      "source": [
        "<a href=\"https://colab.research.google.com/github/Godwoman/3MTT-Capstone-Project-1/blob/main/3MTT_Capstone_Project_1.ipynb\" target=\"_parent\"><img src=\"https://colab.research.google.com/assets/colab-badge.svg\" alt=\"Open In Colab\"/></a>"
      ]
    },
    {
      "cell_type": "code",
      "execution_count": 2,
      "metadata": {
        "colab": {
          "base_uri": "https://localhost:8080/"
        },
        "id": "h4vdqNMtzkH-",
        "outputId": "830a250d-af1a-4b6a-b052-ea3b2e46d1ec"
      },
      "outputs": [
        {
          "output_type": "stream",
          "name": "stdout",
          "text": [
            "Collecting ultralytics\n",
            "  Downloading ultralytics-8.3.39-py3-none-any.whl.metadata (35 kB)\n",
            "Requirement already satisfied: numpy>=1.23.0 in /usr/local/lib/python3.10/dist-packages (from ultralytics) (1.26.4)\n",
            "Requirement already satisfied: matplotlib>=3.3.0 in /usr/local/lib/python3.10/dist-packages (from ultralytics) (3.8.0)\n",
            "Requirement already satisfied: opencv-python>=4.6.0 in /usr/local/lib/python3.10/dist-packages (from ultralytics) (4.10.0.84)\n",
            "Requirement already satisfied: pillow>=7.1.2 in /usr/local/lib/python3.10/dist-packages (from ultralytics) (11.0.0)\n",
            "Requirement already satisfied: pyyaml>=5.3.1 in /usr/local/lib/python3.10/dist-packages (from ultralytics) (6.0.2)\n",
            "Requirement already satisfied: requests>=2.23.0 in /usr/local/lib/python3.10/dist-packages (from ultralytics) (2.32.3)\n",
            "Requirement already satisfied: scipy>=1.4.1 in /usr/local/lib/python3.10/dist-packages (from ultralytics) (1.13.1)\n",
            "Requirement already satisfied: torch>=1.8.0 in /usr/local/lib/python3.10/dist-packages (from ultralytics) (2.5.1+cu121)\n",
            "Requirement already satisfied: torchvision>=0.9.0 in /usr/local/lib/python3.10/dist-packages (from ultralytics) (0.20.1+cu121)\n",
            "Requirement already satisfied: tqdm>=4.64.0 in /usr/local/lib/python3.10/dist-packages (from ultralytics) (4.66.6)\n",
            "Requirement already satisfied: psutil in /usr/local/lib/python3.10/dist-packages (from ultralytics) (5.9.5)\n",
            "Requirement already satisfied: py-cpuinfo in /usr/local/lib/python3.10/dist-packages (from ultralytics) (9.0.0)\n",
            "Requirement already satisfied: pandas>=1.1.4 in /usr/local/lib/python3.10/dist-packages (from ultralytics) (2.2.2)\n",
            "Requirement already satisfied: seaborn>=0.11.0 in /usr/local/lib/python3.10/dist-packages (from ultralytics) (0.13.2)\n",
            "Collecting ultralytics-thop>=2.0.0 (from ultralytics)\n",
            "  Downloading ultralytics_thop-2.0.12-py3-none-any.whl.metadata (9.4 kB)\n",
            "Requirement already satisfied: contourpy>=1.0.1 in /usr/local/lib/python3.10/dist-packages (from matplotlib>=3.3.0->ultralytics) (1.3.1)\n",
            "Requirement already satisfied: cycler>=0.10 in /usr/local/lib/python3.10/dist-packages (from matplotlib>=3.3.0->ultralytics) (0.12.1)\n",
            "Requirement already satisfied: fonttools>=4.22.0 in /usr/local/lib/python3.10/dist-packages (from matplotlib>=3.3.0->ultralytics) (4.55.0)\n",
            "Requirement already satisfied: kiwisolver>=1.0.1 in /usr/local/lib/python3.10/dist-packages (from matplotlib>=3.3.0->ultralytics) (1.4.7)\n",
            "Requirement already satisfied: packaging>=20.0 in /usr/local/lib/python3.10/dist-packages (from matplotlib>=3.3.0->ultralytics) (24.2)\n",
            "Requirement already satisfied: pyparsing>=2.3.1 in /usr/local/lib/python3.10/dist-packages (from matplotlib>=3.3.0->ultralytics) (3.2.0)\n",
            "Requirement already satisfied: python-dateutil>=2.7 in /usr/local/lib/python3.10/dist-packages (from matplotlib>=3.3.0->ultralytics) (2.8.2)\n",
            "Requirement already satisfied: pytz>=2020.1 in /usr/local/lib/python3.10/dist-packages (from pandas>=1.1.4->ultralytics) (2024.2)\n",
            "Requirement already satisfied: tzdata>=2022.7 in /usr/local/lib/python3.10/dist-packages (from pandas>=1.1.4->ultralytics) (2024.2)\n",
            "Requirement already satisfied: charset-normalizer<4,>=2 in /usr/local/lib/python3.10/dist-packages (from requests>=2.23.0->ultralytics) (3.4.0)\n",
            "Requirement already satisfied: idna<4,>=2.5 in /usr/local/lib/python3.10/dist-packages (from requests>=2.23.0->ultralytics) (3.10)\n",
            "Requirement already satisfied: urllib3<3,>=1.21.1 in /usr/local/lib/python3.10/dist-packages (from requests>=2.23.0->ultralytics) (2.2.3)\n",
            "Requirement already satisfied: certifi>=2017.4.17 in /usr/local/lib/python3.10/dist-packages (from requests>=2.23.0->ultralytics) (2024.8.30)\n",
            "Requirement already satisfied: filelock in /usr/local/lib/python3.10/dist-packages (from torch>=1.8.0->ultralytics) (3.16.1)\n",
            "Requirement already satisfied: typing-extensions>=4.8.0 in /usr/local/lib/python3.10/dist-packages (from torch>=1.8.0->ultralytics) (4.12.2)\n",
            "Requirement already satisfied: networkx in /usr/local/lib/python3.10/dist-packages (from torch>=1.8.0->ultralytics) (3.4.2)\n",
            "Requirement already satisfied: jinja2 in /usr/local/lib/python3.10/dist-packages (from torch>=1.8.0->ultralytics) (3.1.4)\n",
            "Requirement already satisfied: fsspec in /usr/local/lib/python3.10/dist-packages (from torch>=1.8.0->ultralytics) (2024.10.0)\n",
            "Requirement already satisfied: sympy==1.13.1 in /usr/local/lib/python3.10/dist-packages (from torch>=1.8.0->ultralytics) (1.13.1)\n",
            "Requirement already satisfied: mpmath<1.4,>=1.1.0 in /usr/local/lib/python3.10/dist-packages (from sympy==1.13.1->torch>=1.8.0->ultralytics) (1.3.0)\n",
            "Requirement already satisfied: six>=1.5 in /usr/local/lib/python3.10/dist-packages (from python-dateutil>=2.7->matplotlib>=3.3.0->ultralytics) (1.16.0)\n",
            "Requirement already satisfied: MarkupSafe>=2.0 in /usr/local/lib/python3.10/dist-packages (from jinja2->torch>=1.8.0->ultralytics) (3.0.2)\n",
            "Downloading ultralytics-8.3.39-py3-none-any.whl (896 kB)\n",
            "\u001b[2K   \u001b[90m━━━━━━━━━━━━━━━━━━━━━━━━━━━━━━━━━━━━━━━━\u001b[0m \u001b[32m896.9/896.9 kB\u001b[0m \u001b[31m25.1 MB/s\u001b[0m eta \u001b[36m0:00:00\u001b[0m\n",
            "\u001b[?25hDownloading ultralytics_thop-2.0.12-py3-none-any.whl (26 kB)\n",
            "Installing collected packages: ultralytics-thop, ultralytics\n",
            "Successfully installed ultralytics-8.3.39 ultralytics-thop-2.0.12\n"
          ]
        }
      ],
      "source": [
        "!pip install ultralytics #intsalling yolo v8 a pretrained object detection model"
      ]
    },
    {
      "cell_type": "code",
      "source": [
        "from ultralytics import YOLO\n"
      ],
      "metadata": {
        "colab": {
          "base_uri": "https://localhost:8080/"
        },
        "id": "oB8DfbmV1GWL",
        "outputId": "108b0e70-ebdb-441c-fcce-6acda6c068cd"
      },
      "execution_count": 3,
      "outputs": [
        {
          "output_type": "stream",
          "name": "stdout",
          "text": [
            "Creating new Ultralytics Settings v0.0.6 file ✅ \n",
            "View Ultralytics Settings with 'yolo settings' or at '/root/.config/Ultralytics/settings.json'\n",
            "Update Settings with 'yolo settings key=value', i.e. 'yolo settings runs_dir=path/to/dir'. For help see https://docs.ultralytics.com/quickstart/#ultralytics-settings.\n"
          ]
        }
      ]
    },
    {
      "cell_type": "code",
      "source": [
        "import cv2\n",
        "import os"
      ],
      "metadata": {
        "id": "OiHXvK6D3tyd"
      },
      "execution_count": 8,
      "outputs": []
    },
    {
      "cell_type": "code",
      "source": [
        "\n",
        "model = YOLO(\"yolov8m.pt\")\n"
      ],
      "metadata": {
        "colab": {
          "base_uri": "https://localhost:8080/"
        },
        "id": "0YHCUvdh2fYU",
        "outputId": "43b0b275-c5d1-4d2d-9b98-5859d863c3fe"
      },
      "execution_count": 4,
      "outputs": [
        {
          "output_type": "stream",
          "name": "stdout",
          "text": [
            "Downloading https://github.com/ultralytics/assets/releases/download/v8.3.0/yolov8m.pt to 'yolov8m.pt'...\n"
          ]
        },
        {
          "output_type": "stream",
          "name": "stderr",
          "text": [
            "100%|██████████| 49.7M/49.7M [00:00<00:00, 107MB/s]\n"
          ]
        }
      ]
    },
    {
      "cell_type": "code",
      "source": [
        "# Create a new directory called 'frames'\n",
        "!mkdir file_dir"
      ],
      "metadata": {
        "id": "JH65uU9a3BT1"
      },
      "execution_count": 6,
      "outputs": []
    },
    {
      "cell_type": "code",
      "source": [
        "!ls # confirm is what created"
      ],
      "metadata": {
        "colab": {
          "base_uri": "https://localhost:8080/"
        },
        "id": "Sh4AqE3c37Y-",
        "outputId": "a4c021a4-2c67-4ba5-9094-354c215f149f"
      },
      "execution_count": 9,
      "outputs": [
        {
          "output_type": "stream",
          "name": "stdout",
          "text": [
            "file_dir  sample_data  yolov8m.pt\n"
          ]
        }
      ]
    },
    {
      "cell_type": "code",
      "source": [
        "file_dir = '/content/drive/MyDrive/Colab Notebooks/dense_traffic'\n",
        "print(os.listdir(file_dir))"
      ],
      "metadata": {
        "colab": {
          "base_uri": "https://localhost:8080/"
        },
        "id": "_TFLmjCh3OGw",
        "outputId": "d402b250-68d7-4ad4-da3c-d43eaecd3328"
      },
      "execution_count": 11,
      "outputs": [
        {
          "output_type": "stream",
          "name": "stdout",
          "text": [
            "['images_253.jpg', 'images_427.jpg', 'images_503 (3).jpg', 'images_533.jpg', 'images_297.jpg', 'images_236 (2).jpg', 'images_278.jpg', 'images_394.jpg', 'images_448.jpg', 'images_488 (2).jpg', 'images_324.jpg', 'images_472 (2).jpg', 'images_308.jpg', 'images_280 (2).jpg', 'images_536 (2).jpg', 'images_277.jpg', 'images_301.jpg', 'images_539 (2).jpg', 'images_537.jpg', 'images_380.jpg', 'images_368.jpg', 'images_503 (4).jpg', 'images_384.jpg', 'images_437 (4).jpg', 'images_367 (2).jpg', 'images_414 (4).jpg', 'images_438 (2).jpg', 'images_276.jpg', 'images_514 (2).jpg', 'images_526 (2).jpg', 'images_328.jpg', 'images_267 (2).jpg', 'images_236.jpg', 'images_391 (3).jpg', 'images_327.jpg', 'images_461.jpg', 'images_449 (2).jpg', 'images_475 (2).jpg', 'images_459 (3).jpg', 'images_530.jpg', 'images_265 (2).jpg', 'images_473.jpg', 'images_389.jpg', 'images_491.jpg', 'images_365 (2).jpg', 'images_329.jpg', 'images_337 (2).jpg', 'images_377 (2).jpg', 'images_238.jpg', 'images_502 (3).jpg', 'images_489 (2).jpg', 'images_516 (2).jpg', 'images_401 (2).jpg', 'images_517 (2).jpg', 'images_316 (2).jpg', 'images_296.jpg', 'images_395.jpg', 'images_293 (2).jpg', 'images_356.jpg', 'images_430.jpg', 'images_419.jpg', 'images_355.jpg', 'images_510 (2).jpg', 'images_245.jpg', 'images_533 (2).jpg', 'images_463 (3).jpg', 'images_492.jpg', 'images_273 (2).jpg', 'images_403 (2).jpg', 'images_294 (3).jpg', 'images_281.jpg', 'images_522.jpg', 'images_241.jpg', 'images_412 (2).jpg', 'images_494.jpg', 'images_495.jpg', 'images_515.jpg', 'images_534.jpg', 'images_306 (2).jpg', 'images_278 (2).jpg', 'images_487 (2).jpg', 'images_503 (2).jpg', 'images_336.jpg', 'images_372.jpg', 'images_473 (2).jpg', 'images_518.jpg', 'images_499 (2).jpg', 'images_443.jpg', 'images_492 (2).jpg', 'images_387 (3).jpg', 'images_389 (2).jpg', 'images_300 (3).jpg', 'images_486.jpg', 'images_362 (2).jpg', 'images_370 (2).jpg', 'images_502 (2).jpg', 'images_391 (2).jpg', 'images_252 (2).jpg', 'images_350.jpg', 'images_246 (2).jpg', 'images_501.jpg', 'images_395 (2).jpg', 'images_303 (2).jpg', 'images_506 (3).jpg', 'images_256.jpg', 'images_431.jpg', 'images_398 (2).jpg', 'images_458 (2).jpg', 'images_258.jpg', 'images_338.jpg', 'images_511.jpg', 'images_514 (3).jpg', 'images_344 (4).jpg', 'images_384 (3).jpg', 'images_399 (2).jpg', 'images_271 (3).jpg', 'images_461 (2).jpg', 'images_323.jpg', 'images_433 (4).jpg', 'images_334 (2).jpg', 'images_385 (2).jpg', 'images_270.jpg', 'images_494 (2).jpg', 'images_242.jpg', 'images_463.jpg', 'images_432.jpg', 'images_459 (2).jpg', 'images_370.jpg', 'images_261 (2).jpg', 'images_346 (2).jpg', 'images_521 (2).jpg', 'images_287.jpg', 'images_389 (3).jpg', 'images_450.jpg', 'images_357 (2).jpg', 'images_304.jpg', 'images_388.jpg', 'images_423.jpg', 'images_268 (2).jpg', 'images_471 (3).jpg', 'images_274 (2).jpg', 'images_314.jpg', 'images_418 (2).jpg', 'images_481 (3).jpg', 'images_302 (2).jpg', 'images_261.jpg', 'images_353 (3).jpg', 'images_231.jpg', 'images_467.jpg', 'images_406 (4).jpg', 'images_263 (2).jpg', 'images_507.jpg', 'images_375 (3).jpg', 'images_374 (2).jpg', 'images_418.jpg', 'images_328 (2).jpg', 'images_294.jpg', 'images_424.jpg', 'images_277 (2).jpg', 'images_529.jpg', 'images_382.jpg', 'images_275.jpg', 'images_325.jpg', 'images_472.jpg', 'images_517 (3).jpg', 'images_527 (2).jpg', 'images_249 (2).jpg', 'images_285.jpg', 'images_400 (4).jpg', 'images_524.jpg', 'images_292.jpg', 'images_265.jpg', 'images_434.jpg', 'images_392 (2).jpg', 'images_235.jpg', 'images_508 (3).jpg', 'images_450 (2).jpg', 'images_360 (2).jpg', 'images_433 (2).jpg', 'images_280 (3).jpg', 'images_261 (3).jpg', 'images_490.jpg', 'images_347.jpg', 'images_338 (2).jpg', 'images_504 (2).jpg', 'images_442.jpg', 'images_263.jpg', 'images_531.jpg', 'images_295.jpg', 'images_378.jpg', 'images_449.jpg', 'images_441.jpg', 'images_307 (2).jpg', 'images_526.jpg', 'images_270 (2).jpg', 'images_429 (2).jpg', 'images_303 (4).jpg', 'images_386 (3).jpg', 'images_406.jpg', 'images_414 (2).jpg', 'images_487.jpg', 'images_286 (3).jpg', 'images_242 (2).jpg', 'images_388 (2).jpg', 'images_536.jpg', 'images_497 (2).jpg', 'images_283 (2).jpg', 'images_269.jpg', 'images_233 (2).jpg', 'images_498 (2).jpg', 'images_428 (2).jpg', 'images_336 (3).jpg', 'images_481 (2).jpg', 'images_247.jpg', 'images_286.jpg', 'images_397.jpg', 'images_532.jpg', 'images_512.jpg', 'images_271.jpg', 'images_288 (3).jpg', 'images_403.jpg', 'images_440 (2).jpg', 'images_359 (2).jpg', 'images_484.jpg', 'images_508 (2).jpg', 'images_514.jpg', 'images_420.jpg', 'images_387.jpg', 'images_445.jpg', 'images_416 (2).jpg', 'images_375 (2).jpg', 'images_411.jpg', 'images_360.jpg', 'images_318.jpg', 'images_246.jpg', 'images_288 (2).jpg', 'images_523.jpg', 'images_282 (2).jpg', 'images_451.jpg', 'images_471 (2).jpg', 'images_237.jpg', 'images_272.jpg', 'images_269 (2).jpg', 'images_345.jpg', 'images_314 (2).jpg', 'images_361.jpg', 'images_381.jpg', 'images_273.jpg', 'images_282.jpg', 'images_520 (2).jpg', 'images_270 (3).jpg', 'images_342.jpg', 'images_248 (2).jpg', 'images_491 (2).jpg', 'images_505.jpg', 'images_455.jpg', 'images_300 (2).jpg', 'images_366 (2).jpg', 'images_538 (2).jpg', 'images_279.jpg', 'images_358.jpg', 'images_248.jpg', 'images_351 (2).jpg', 'images_327 (2).jpg', 'images_244.jpg', 'images_431 (3).jpg', 'images_341.jpg', 'images_236 (3).jpg', 'images_399.jpg', 'images_373 (2).jpg', 'images_457 (2).jpg', 'images_260.jpg', 'images_384 (2).jpg', 'images_480 (2).jpg', 'images_360 (4).jpg', 'images_412.jpg', 'images_302.jpg', 'images_259.jpg', 'images_406 (3).jpg', 'images_380 (2).jpg', 'images_358 (2).jpg', 'images_250.jpg', 'images_429.jpg', 'images_411 (3).jpg', 'images_470.jpg', 'images_353.jpg', 'images_332.jpg', 'images_414.jpg', 'images_383.jpg', 'images_441 (2).jpg', 'images_483.jpg', 'images_433 (3).jpg', 'images_232.jpg', 'images_259 (2).jpg', 'images_393.jpg', 'images_343.jpg', 'images_364.jpg', 'images_465 (2).jpg', 'images_257 (2).jpg', 'images_344 (2).jpg', 'images_317 (2).jpg', 'images_341 (2).jpg', 'images_393 (2).jpg', 'images_520.jpg', 'images_440.jpg', 'images_376.jpg', 'images_482.jpg', 'images_439.jpg', 'images_280.jpg', 'images_416.jpg', 'images_370 (3).jpg', 'images_371.jpg', 'images_506 (2).jpg', 'images_271 (2).jpg', 'images_409 (2).jpg', 'images_506.jpg', 'images_283.jpg', 'images_421.jpg', 'images_477 (2).jpg', 'images_492 (3).jpg', 'images_425 (2).jpg', 'images_394 (2).jpg', 'images_249.jpg', 'images_485.jpg', 'images_489.jpg', 'images_232 (3).jpg', 'images_438.jpg', 'images_232 (2).jpg', 'images_524 (3).jpg', 'images_489 (3).jpg', 'images_405 (2).jpg', 'images_385.jpg', 'images_243.jpg', 'images_433.jpg', 'images_256 (2).jpg', 'images_493.jpg', 'images_489 (4).jpg', 'images_498.jpg', 'images_504.jpg', 'images_244 (2).jpg', 'images_476 (2).jpg', 'images_454.jpg', 'images_402.jpg', 'images_306.jpg', 'images_525.jpg', 'images_402 (3).jpg', 'images_456 (2).jpg', 'images_442 (2).jpg', 'images_387 (2).jpg', 'images_300.jpg', 'images_510 (3).jpg', 'images_483 (2).jpg', 'images_399 (3).jpg', 'images_479 (2).jpg', 'images_378 (2).jpg', 'images_330.jpg', 'images_386.jpg', 'images_331.jpg', 'images_317.jpg', 'images_340.jpg', 'images_465.jpg', 'images_425.jpg', 'images_471.jpg', 'images_286 (2).jpg', 'images_461 (3).jpg', 'images_509.jpg', 'images_390 (2).jpg', 'images_406 (2).jpg', 'images_479.jpg', 'images_499.jpg', 'images_253 (3).jpg', 'images_462 (2).jpg', 'images_462 (3).jpg', 'images_258 (2).jpg', 'images_349 (2).jpg', 'images_293.jpg', 'images_231 (2).jpg', 'images_536 (3).jpg', 'images_460 (2).jpg', 'images_522 (3).jpg', 'images_522 (4).jpg', 'images_517.jpg', 'images_463 (2).jpg', 'images_502.jpg', 'images_239.jpg', 'images_303 (5).jpg', 'images_419 (2).jpg', 'images_262 (2).jpg', 'images_360 (3).jpg', 'images_511 (3).jpg', 'images_400 (3).jpg', 'images_516.jpg', 'images_410.jpg', 'images_468 (2).jpg', 'images_475.jpg', 'images_377.jpg', 'images_446.jpg', 'images_400 (2).jpg', 'images_404 (2).jpg', 'images_417.jpg', 'images_407 (2).jpg', 'images_267.jpg', 'images_235 (2).jpg', 'images_336 (2).jpg', 'images_448 (3).jpg', 'images_305 (2).jpg', 'images_447 (2).jpg', 'images_381 (2).jpg', 'images_459.jpg', 'images_497.jpg', 'images_404.jpg', 'images_391.jpg', 'images_450 (3).jpg', 'images_409 (3).jpg', 'images_538.jpg', 'images_295 (2).jpg', 'images_344.jpg', 'images_457 (3).jpg', 'images_268.jpg', 'images_456.jpg', 'images_344 (3).jpg', 'images_250 (2).jpg', 'images_352.jpg', 'images_427 (2).jpg', 'images_339.jpg', 'images_532 (2).jpg', 'images_303 (3).jpg', 'images_290.jpg', 'images_363.jpg', 'images_369.jpg', 'images_359.jpg', 'images_357.jpg', 'images_481.jpg', 'images_511 (2).jpg', 'images_323 (2).jpg', 'images_348 (2).jpg', 'images_477.jpg', 'images_447 (3).jpg', 'images_436.jpg', 'images_437 (2).jpg', 'images_386 (2).jpg', 'images_390.jpg', 'images_392.jpg', 'images_347 (2).jpg', 'images_529 (2).jpg', 'images_495 (2).jpg', 'images_537 (4).jpg', 'images_335.jpg', 'images_376 (2).jpg', 'images_247 (2).jpg', 'images_460.jpg', 'images_373.jpg', 'images_291.jpg', 'images_537 (3).jpg', 'images_415.jpg', 'images_417 (2).jpg', 'images_422.jpg', 'images_478 (2).jpg', 'images_461 (4).jpg', 'images_504 (3).jpg', 'images_393 (3).jpg', 'images_315.jpg', 'images_362.jpg', 'images_334.jpg', 'images_314 (3).jpg', 'images_411 (2).jpg', 'images_426.jpg', 'images_518 (2).jpg', 'images_373 (3).jpg', 'images_284 (2).jpg', 'images_345 (2).jpg', 'images_287 (2).jpg', 'images_519.jpg', 'images_284.jpg', 'images_410 (2).jpg', 'images_513.jpg', 'images_262.jpg', 'images_274.jpg', 'images_488.jpg', 'images_521.jpg', 'images_401.jpg', 'images_310 (2).jpg', 'images_266.jpg', 'images_288.jpg', 'images_476.jpg', 'images_340 (2).jpg', 'images_367 (3).jpg', 'images_417 (3).jpg', 'images_468.jpg', 'images_484 (2).jpg', 'images_231 (3).jpg', 'images_366.jpg', 'images_321 (2).jpg', 'images_379.jpg', 'images_422 (2).jpg', 'images_371 (2).jpg', 'images_508.jpg', 'images_279 (2).jpg', 'images_539.jpg', 'images_257.jpg', 'images_496.jpg', 'images_305.jpg', 'images_448 (2).jpg', 'images_478.jpg', 'images_326 (2).jpg', 'images_480.jpg', 'images_364 (2).jpg', 'images_330 (2).jpg', 'images_348 (3).jpg', 'images_457.jpg', 'images_311.jpg', 'images_476 (3).jpg', 'images_524 (4).jpg', 'images_321.jpg', 'images_469.jpg', 'images_441 (3).jpg', 'images_310.jpg', 'images_337.jpg', 'images_351.jpg', 'images_294 (2).jpg', 'images_291 (2).jpg', 'images_252.jpg', 'images_355 (2).jpg', 'images_251.jpg', 'images_490 (2).jpg', 'images_231 (4).jpg', 'images_254.jpg', 'images_503.jpg', 'images_367.jpg', 'images_486 (2).jpg', 'images_510.jpg', 'images_430 (2).jpg', 'images_251 (3).jpg', 'images_375.jpg', 'images_374.jpg', 'images_458.jpg', 'images_533 (3).jpg', 'images_462.jpg', 'images_524 (2).jpg', 'images_402 (2).jpg', 'images_352 (2).jpg', 'images_264.jpg', 'images_414 (3).jpg', 'images_400.jpg', 'images_307.jpg', 'images_277 (3).jpg', 'images_398.jpg', 'images_437.jpg', 'images_405.jpg', 'images_303.jpg', 'images_320.jpg', 'images_407 (3).jpg', 'images_240.jpg', 'images_426 (2).jpg', 'images_431 (2).jpg', 'images_326.jpg', 'images_353 (2).jpg', 'images_413.jpg', 'images_276 (2).jpg', 'images_523 (2).jpg', 'images_409.jpg', 'images_322.jpg', 'images_535.jpg', 'images_428.jpg', 'images_328 (3).jpg', 'images_474.jpg', 'images_365.jpg', 'images_527.jpg', 'images_296 (2).jpg', 'images_453.jpg', 'images_346.jpg', 'images_354.jpg', 'images_447.jpg', 'images_407.jpg', 'images_348.jpg', 'images_251 (2).jpg', 'images_519 (2).jpg', 'images_253 (2).jpg', 'images_437 (3).jpg', 'images_453 (2).jpg', 'images_349.jpg', 'images_341 (3).jpg', 'images_408.jpg', 'images_316.jpg', 'images_352 (3).jpg', 'images_522 (2).jpg', 'images_537 (2).jpg', 'images_268 (3).jpg', 'images_525 (2).jpg', 'images_633.jpg', 'images_653 (2).jpg', 'images_544.jpg', 'images_610.jpg', 'images_597.jpg', 'images_575 (2).jpg', 'images_564.jpg', 'images_576.jpg', 'images_551 (2).jpg', 'images_640.jpg', 'images_564 (2).jpg', 'images_551 (4).jpg', 'images_654.jpg', 'images_649 (2).jpg', 'images_649.jpg', 'images_697.jpg', 'images_658 (2).jpg', 'images_662 (2).jpg', 'images_712 (2).jpg', 'images_554 (2).jpg', 'images_663 (2).jpg', 'images_615.jpg', 'images_651.jpg', 'images_631.jpg', 'images_678.jpg', 'images_549.jpg', 'images_801.jpg', 'images_637.jpg', 'images_644.jpg', 'images_624.jpg', 'images_667 (2).jpg', 'images_771.jpg', 'images_673 (3).jpg', 'images_606.jpg', 'images_569.jpg', 'images_585.jpg', 'images_717.jpg', 'images_584.jpg', 'images_560 (2).jpg', 'images_579 (2).jpg', 'images_638.jpg', 'images_549 (2).jpg', 'images_667.jpg', 'images_713.jpg', 'images_616.jpg', 'images_810.jpg', 'images_616 (2).jpg', 'images_721.jpg', 'images_679 (2).jpg', 'images_629.jpg', 'images_602.jpg', 'images_652.jpg', 'images_546 (2).jpg', 'images_649 (3).jpg', 'images_594 (3).jpg', 'images_589.jpg', 'images_681.jpg', 'images_672.jpg', 'images_776.jpg', 'images_645.jpg', 'images_642 (2).jpg', 'images_548 (2).jpg', 'images_797.jpg', 'images_590.jpg', 'images_605 (2).jpg', 'images_710.jpg', 'images_635 (2).jpg', 'images_646 (2).jpg', 'images_692 (2).jpg', 'images_621.jpg', 'images_725 (2).jpg', 'images_666.jpg', 'images_611 (2).jpg', 'images_630.jpg', 'images_684.jpg', 'images_695.jpg', 'images_726.jpg', 'images_581.jpg', 'images_573.jpg', 'images_598.jpg', 'images_650.jpg', 'images_675 (2).jpg', 'images_543 (3).jpg', 'images_690 (2).jpg', 'images_720 (2).jpg', 'images_665.jpg', 'images_575 (3).jpg', 'images_798.jpg', 'images_597 (2).jpg', 'images_578.jpg', 'images_642 (4).jpg', 'images_618 (3).jpg', 'images_560 (3).jpg', 'images_601 (2).jpg', 'images_700.jpg', 'images_731.jpg', 'images_712.jpg', 'images_575.jpg', 'images_748.jpg', 'images_796.jpg', 'images_596 (2).jpg', 'images_702.jpg', 'images_555 (2).jpg', 'images_607.jpg', 'images_678 (3).jpg', 'images_612.jpg', 'images_657.jpg', 'images_643 (2).jpg', 'images_562 (3).jpg', 'images_579 (3).jpg', 'images_769.jpg', 'images_565 (2).jpg', 'images_698.jpg', 'images_572 (2).jpg', 'images_765.jpg', 'images_681 (2).jpg', 'images_676 (2).jpg', 'images_595 (2).jpg', 'images_653.jpg', 'images_583 (2).jpg', 'images_547.jpg', 'images_577.jpg', 'images_605.jpg', 'images_711.jpg', 'images_671.jpg', 'images_544 (2).jpg', 'images_546.jpg', 'images_642.jpg', 'images_607 (2).jpg', 'images_678 (2).jpg', 'images_572.jpg', 'images_682.jpg', 'images_543.jpg', 'images_670.jpg', 'images_600.jpg', 'images_565.jpg', 'images_550 (2).jpg', 'images_702 (2).jpg', 'images_618 (2).jpg', 'images_610 (2).jpg', 'images_723.jpg', 'images_599 (2).jpg', 'images_559 (2).jpg', 'images_664 (2).jpg', 'images_631 (2).jpg', 'images_551.jpg', 'images_553.jpg', 'images_752.jpg', 'images_641.jpg', 'images_719.jpg', 'images_725.jpg', 'images_620.jpg', 'images_580.jpg', 'images_562 (2).jpg', 'images_554.jpg', 'images_557.jpg', 'images_680 (2).jpg', 'images_733.jpg', 'images_742.jpg', 'images_703.jpg', 'images_541.jpg', 'images_555.jpg', 'images_594 (2).jpg', 'images_703 (2).jpg', 'images_785.jpg', 'images_601.jpg', 'images_680.jpg', 'images_661 (2).jpg', 'images_624 (2).jpg', 'images_603.jpg', 'images_608.jpg', 'images_648 (2).jpg', 'images_570.jpg', 'images_567.jpg', 'images_593 (2).jpg', 'images_637 (2).jpg', 'images_548.jpg', 'images_708.jpg', 'images_582.jpg', 'images_726 (2).jpg', 'images_646 (3).jpg', 'images_586 (2).jpg', 'images_647.jpg', 'images_583.jpg', 'images_585 (2).jpg', 'images_596.jpg', 'images_551 (3).jpg', 'images_571.jpg', 'images_617.jpg', 'images_694.jpg', 'images_586.jpg', 'images_571 (2).jpg', 'images_600 (2).jpg', 'images_648.jpg', 'images_707.jpg', 'images_791.jpg', 'images_558.jpg', 'images_774.jpg', 'images_595.jpg', 'images_723 (2).jpg', 'images_568.jpg', 'images_562.jpg', 'images_782.jpg', 'images_699.jpg', 'images_662.jpg', 'images_713 (2).jpg', 'images_779.jpg', 'images_609.jpg', 'images_676.jpg', 'images_569 (2).jpg', 'images_558 (2).jpg', 'images_665 (2).jpg', 'images_561.jpg', 'images_642 (3).jpg', 'images_763.jpg', 'images_628.jpg', 'images_563.jpg', 'images_668.jpg', 'images_584 (2).jpg', 'images_628 (2).jpg', 'images_664 (3).jpg', 'images_644 (2).jpg', 'images_681 (3).jpg', 'images_658.jpg', 'images_599.jpg', 'images_674.jpg', 'images_665 (3).jpg', 'images_559.jpg', 'images_741.jpg', 'images_714.jpg', 'images_656.jpg', 'images_714 (2).jpg', 'images_564 (3).jpg', 'images_660.jpg', 'images_550 (3).jpg', 'images_619 (2).jpg', 'images_594.jpg', 'images_724.jpg', 'images_673.jpg', 'images_715.jpg', 'images_639.jpg', 'images_643.jpg', 'images_618.jpg', 'images_568 (3).jpg', 'images_606 (2).jpg', 'images_675.jpg', 'images_683 (2).jpg', 'images_593.jpg', 'images_692.jpg', 'images_550.jpg', 'images_679.jpg', 'images_665 (4).jpg', 'images_543 (2).jpg', 'images_640 (2).jpg', 'images_636.jpg', 'images_722.jpg', 'images_568 (2).jpg', 'images_634.jpg', 'images_611.jpg', 'images_549 (3).jpg', 'images_799.jpg', 'images_673 (2).jpg', 'images_718.jpg', 'images_693.jpg', 'images_617 (3).jpg', 'images_614.jpg', 'images_553 (2).jpg', 'images_632.jpg', 'images_639 (3).jpg', 'images_646.jpg', 'images_540.jpg', 'images_669 (2).jpg', 'images_803.jpg', 'images_659.jpg', 'images_612 (2).jpg', 'images_598 (2).jpg', 'images_732.jpg', 'images_617 (2).jpg', 'images_766.jpg', 'images_577 (2).jpg', 'images_579.jpg', 'images_692 (3).jpg', 'images_591.jpg', 'images_683.jpg', 'images_655.jpg', 'images_559 (3).jpg', 'images_758.jpg', 'images_720.jpg', 'images_664.jpg', 'images_777.jpg', 'images_588.jpg', 'images_627.jpg', 'images_600 (3).jpg', 'images_635.jpg', 'images_540 (2).jpg', 'images_560.jpg', 'images_663.jpg', 'images_636 (2).jpg', 'images_661.jpg', 'images_623.jpg', 'images_625.jpg', 'images_690.jpg', 'images_755.jpg', 'images_669.jpg', 'images_567 (2).jpg', 'images_639 (2).jpg', 'images_645 (2).jpg', 'images_566.jpg', 'images_619.jpg', 'images_686.jpg', 'images_812.jpg']\n"
          ]
        }
      ]
    },
    {
      "cell_type": "code",
      "source": [],
      "metadata": {
        "id": "C6Hbr5Wh3k63"
      },
      "execution_count": null,
      "outputs": []
    }
  ]
}